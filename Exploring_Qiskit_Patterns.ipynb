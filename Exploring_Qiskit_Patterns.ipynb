{
 "cells": [
  {
   "cell_type": "markdown",
   "id": "481b6829-ca39-41a7-a834-5b6a3dc101f6",
   "metadata": {
    "id": "481b6829-ca39-41a7-a834-5b6a3dc101f6"
   },
   "source": [
    "# IBM Qiskit Hands-On Workshop"
   ]
  },
  {
   "cell_type": "markdown",
   "id": "26274f9c-08d8-4b26-a85a-da8ea7e7801d",
   "metadata": {
    "id": "26274f9c-08d8-4b26-a85a-da8ea7e7801d"
   },
   "source": [
    "### Hello!\n",
    "### Welcome to **IBM Qiskit Hands-on Workshop**\n",
    "\n",
    "This session today is divided into two parts: one is coding part and another one is a bit of discussion part. A breif overview of this notebook is as follows:\n",
    "1. PART I: **How to Run Quantum Circuits**:<br>\n",
    "    In this section we will construct some circuits and using those circuits we will explore\n",
    "    different kinds of backends to run those circuits on.\n",
    "2. PART II: **Introduction to Qiskit Patterns**:<br>\n",
    "    In this section you will be introduced to *Qiskit Patterns* and you will be shown a n example on how an\n",
    "    actual problem is actually solved using Qiskit Pattern and how each of it's steps are performed for\n",
    "    effective use of current quantum processors."
   ]
  },
  {
   "cell_type": "markdown",
   "id": "7cf0bf5e-eed7-4969-8f03-444d746fa879",
   "metadata": {
    "id": "7cf0bf5e-eed7-4969-8f03-444d746fa879"
   },
   "source": [
    "# PART I: How to Run Quantum Circuits\n",
    "\n",
    "Let's start from a question: **You designed your Quantum Circuit. Now you want to run it and extract the results from it. *How would you run that circuit?***"
   ]
  },
  {
   "cell_type": "markdown",
   "id": "6d94bb89-5dd3-4f43-a3c0-36a0d5e94c25",
   "metadata": {
    "id": "6d94bb89-5dd3-4f43-a3c0-36a0d5e94c25"
   },
   "source": [
    "There are two main methods for executing a quantum circuit and obtaining results:<br>\n",
    "\n",
    "1. **Simulating Locally**: This involves running the quantum circuit on a simulator backend, which uses classical computing to mimic the behavior of a quantum computer. The simulator performs complex mathematical operations to emulate quantum mechanics, allowing you to test and experiment with quantum circuits without needing actual quantum hardware. These simulations can be executed directly on your local classical computer, without requiring access to a physical quantum processor.\n",
    "\n",
    "2. **Running on a Quantum Processor**: Alternatively, you can execute your circuit on a real quantum processor. Through the IBM Quantum Platform, you can access quantum processors via the cloud, eliminating the need for physical access. This allows you to run your circuits on an actual quantum chip in real-time and retrieve the results."
   ]
  },
  {
   "cell_type": "markdown",
   "id": "79dd08e1-8f63-4b76-9278-8570980dcd79",
   "metadata": {
    "id": "79dd08e1-8f63-4b76-9278-8570980dcd79"
   },
   "source": [
    "First let's install all required packages:"
   ]
  },
  {
   "cell_type": "code",
   "execution_count": 1,
   "id": "f6b4e614-4975-4e66-b41a-0d66b955adff",
   "metadata": {
    "colab": {
     "base_uri": "https://localhost:8080/"
    },
    "id": "f6b4e614-4975-4e66-b41a-0d66b955adff",
    "outputId": "927b4e27-b691-410e-fde1-c0c597923e00"
   },
   "outputs": [
    {
     "name": "stdout",
     "output_type": "stream",
     "text": [
      "Collecting qiskit[visualization]\n",
      "  Downloading qiskit-1.3.1-cp39-abi3-manylinux_2_17_x86_64.manylinux2014_x86_64.whl.metadata (12 kB)\n",
      "Collecting rustworkx>=0.15.0 (from qiskit[visualization])\n",
      "  Downloading rustworkx-0.15.1-cp38-abi3-manylinux_2_17_x86_64.manylinux2014_x86_64.whl.metadata (9.9 kB)\n",
      "Requirement already satisfied: numpy<3,>=1.17 in /usr/local/lib/python3.10/dist-packages (from qiskit[visualization]) (1.26.4)\n",
      "Requirement already satisfied: scipy>=1.5 in /usr/local/lib/python3.10/dist-packages (from qiskit[visualization]) (1.13.1)\n",
      "Requirement already satisfied: sympy>=1.3 in /usr/local/lib/python3.10/dist-packages (from qiskit[visualization]) (1.13.1)\n",
      "Collecting dill>=0.3 (from qiskit[visualization])\n",
      "  Downloading dill-0.3.9-py3-none-any.whl.metadata (10 kB)\n",
      "Requirement already satisfied: python-dateutil>=2.8.0 in /usr/local/lib/python3.10/dist-packages (from qiskit[visualization]) (2.8.2)\n",
      "Collecting stevedore>=3.0.0 (from qiskit[visualization])\n",
      "  Downloading stevedore-5.4.0-py3-none-any.whl.metadata (2.3 kB)\n",
      "Requirement already satisfied: typing-extensions in /usr/local/lib/python3.10/dist-packages (from qiskit[visualization]) (4.12.2)\n",
      "Collecting symengine<0.14,>=0.11 (from qiskit[visualization])\n",
      "  Downloading symengine-0.13.0-cp310-cp310-manylinux_2_17_x86_64.manylinux2014_x86_64.whl.metadata (1.2 kB)\n",
      "Requirement already satisfied: matplotlib>=3.3 in /usr/local/lib/python3.10/dist-packages (from qiskit[visualization]) (3.10.0)\n",
      "Requirement already satisfied: pydot in /usr/local/lib/python3.10/dist-packages (from qiskit[visualization]) (3.0.4)\n",
      "Requirement already satisfied: Pillow>=4.2.1 in /usr/local/lib/python3.10/dist-packages (from qiskit[visualization]) (11.1.0)\n",
      "Collecting pylatexenc>=1.4 (from qiskit[visualization])\n",
      "  Downloading pylatexenc-2.10.tar.gz (162 kB)\n",
      "\u001b[2K     \u001b[90m━━━━━━━━━━━━━━━━━━━━━━━━━━━━━━━━━━━━━━━━\u001b[0m \u001b[32m162.6/162.6 kB\u001b[0m \u001b[31m6.6 MB/s\u001b[0m eta \u001b[36m0:00:00\u001b[0m\n",
      "\u001b[?25h  Preparing metadata (setup.py) ... \u001b[?25l\u001b[?25hdone\n",
      "Requirement already satisfied: seaborn>=0.9.0 in /usr/local/lib/python3.10/dist-packages (from qiskit[visualization]) (0.13.2)\n",
      "Requirement already satisfied: contourpy>=1.0.1 in /usr/local/lib/python3.10/dist-packages (from matplotlib>=3.3->qiskit[visualization]) (1.3.1)\n",
      "Requirement already satisfied: cycler>=0.10 in /usr/local/lib/python3.10/dist-packages (from matplotlib>=3.3->qiskit[visualization]) (0.12.1)\n",
      "Requirement already satisfied: fonttools>=4.22.0 in /usr/local/lib/python3.10/dist-packages (from matplotlib>=3.3->qiskit[visualization]) (4.55.3)\n",
      "Requirement already satisfied: kiwisolver>=1.3.1 in /usr/local/lib/python3.10/dist-packages (from matplotlib>=3.3->qiskit[visualization]) (1.4.8)\n",
      "Requirement already satisfied: packaging>=20.0 in /usr/local/lib/python3.10/dist-packages (from matplotlib>=3.3->qiskit[visualization]) (24.2)\n",
      "Requirement already satisfied: pyparsing>=2.3.1 in /usr/local/lib/python3.10/dist-packages (from matplotlib>=3.3->qiskit[visualization]) (3.2.1)\n",
      "Requirement already satisfied: six>=1.5 in /usr/local/lib/python3.10/dist-packages (from python-dateutil>=2.8.0->qiskit[visualization]) (1.17.0)\n",
      "Requirement already satisfied: pandas>=1.2 in /usr/local/lib/python3.10/dist-packages (from seaborn>=0.9.0->qiskit[visualization]) (2.2.2)\n",
      "Collecting pbr>=2.0.0 (from stevedore>=3.0.0->qiskit[visualization])\n",
      "  Downloading pbr-6.1.0-py2.py3-none-any.whl.metadata (3.4 kB)\n",
      "Requirement already satisfied: mpmath<1.4,>=1.1.0 in /usr/local/lib/python3.10/dist-packages (from sympy>=1.3->qiskit[visualization]) (1.3.0)\n",
      "Requirement already satisfied: pytz>=2020.1 in /usr/local/lib/python3.10/dist-packages (from pandas>=1.2->seaborn>=0.9.0->qiskit[visualization]) (2024.2)\n",
      "Requirement already satisfied: tzdata>=2022.7 in /usr/local/lib/python3.10/dist-packages (from pandas>=1.2->seaborn>=0.9.0->qiskit[visualization]) (2024.2)\n",
      "Downloading dill-0.3.9-py3-none-any.whl (119 kB)\n",
      "\u001b[2K   \u001b[90m━━━━━━━━━━━━━━━━━━━━━━━━━━━━━━━━━━━━━━━━\u001b[0m \u001b[32m119.4/119.4 kB\u001b[0m \u001b[31m7.4 MB/s\u001b[0m eta \u001b[36m0:00:00\u001b[0m\n",
      "\u001b[?25hDownloading rustworkx-0.15.1-cp38-abi3-manylinux_2_17_x86_64.manylinux2014_x86_64.whl (2.0 MB)\n",
      "\u001b[2K   \u001b[90m━━━━━━━━━━━━━━━━━━━━━━━━━━━━━━━━━━━━━━━━\u001b[0m \u001b[32m2.0/2.0 MB\u001b[0m \u001b[31m29.1 MB/s\u001b[0m eta \u001b[36m0:00:00\u001b[0m\n",
      "\u001b[?25hDownloading stevedore-5.4.0-py3-none-any.whl (49 kB)\n",
      "\u001b[2K   \u001b[90m━━━━━━━━━━━━━━━━━━━━━━━━━━━━━━━━━━━━━━━━\u001b[0m \u001b[32m49.5/49.5 kB\u001b[0m \u001b[31m1.7 MB/s\u001b[0m eta \u001b[36m0:00:00\u001b[0m\n",
      "\u001b[?25hDownloading symengine-0.13.0-cp310-cp310-manylinux_2_17_x86_64.manylinux2014_x86_64.whl (49.7 MB)\n",
      "\u001b[2K   \u001b[90m━━━━━━━━━━━━━━━━━━━━━━━━━━━━━━━━━━━━━━━━\u001b[0m \u001b[32m49.7/49.7 MB\u001b[0m \u001b[31m8.0 MB/s\u001b[0m eta \u001b[36m0:00:00\u001b[0m\n",
      "\u001b[?25hDownloading qiskit-1.3.1-cp39-abi3-manylinux_2_17_x86_64.manylinux2014_x86_64.whl (6.7 MB)\n",
      "\u001b[2K   \u001b[90m━━━━━━━━━━━━━━━━━━━━━━━━━━━━━━━━━━━━━━━━\u001b[0m \u001b[32m6.7/6.7 MB\u001b[0m \u001b[31m32.1 MB/s\u001b[0m eta \u001b[36m0:00:00\u001b[0m\n",
      "\u001b[?25hDownloading pbr-6.1.0-py2.py3-none-any.whl (108 kB)\n",
      "\u001b[2K   \u001b[90m━━━━━━━━━━━━━━━━━━━━━━━━━━━━━━━━━━━━━━━━\u001b[0m \u001b[32m108.5/108.5 kB\u001b[0m \u001b[31m7.4 MB/s\u001b[0m eta \u001b[36m0:00:00\u001b[0m\n",
      "\u001b[?25hBuilding wheels for collected packages: pylatexenc\n",
      "  Building wheel for pylatexenc (setup.py) ... \u001b[?25l\u001b[?25hdone\n",
      "  Created wheel for pylatexenc: filename=pylatexenc-2.10-py3-none-any.whl size=136816 sha256=b217d1f874e535de9bdd694c4f6029f05c20473602327477ba9ede69de753160\n",
      "  Stored in directory: /root/.cache/pip/wheels/d3/31/8b/e09b0386afd80cfc556c00408c9aeea5c35c4d484a9c762fd5\n",
      "Successfully built pylatexenc\n",
      "Installing collected packages: pylatexenc, symengine, rustworkx, pbr, dill, stevedore, qiskit\n",
      "Successfully installed dill-0.3.9 pbr-6.1.0 pylatexenc-2.10 qiskit-1.3.1 rustworkx-0.15.1 stevedore-5.4.0 symengine-0.13.0\n",
      "Collecting qiskit_aer\n",
      "  Downloading qiskit_aer-0.15.1-cp310-cp310-manylinux_2_17_x86_64.manylinux2014_x86_64.whl.metadata (8.0 kB)\n",
      "Requirement already satisfied: qiskit>=1.1.0 in /usr/local/lib/python3.10/dist-packages (from qiskit_aer) (1.3.1)\n",
      "Requirement already satisfied: numpy>=1.16.3 in /usr/local/lib/python3.10/dist-packages (from qiskit_aer) (1.26.4)\n",
      "Requirement already satisfied: scipy>=1.0 in /usr/local/lib/python3.10/dist-packages (from qiskit_aer) (1.13.1)\n",
      "Requirement already satisfied: psutil>=5 in /usr/local/lib/python3.10/dist-packages (from qiskit_aer) (5.9.5)\n",
      "Requirement already satisfied: rustworkx>=0.15.0 in /usr/local/lib/python3.10/dist-packages (from qiskit>=1.1.0->qiskit_aer) (0.15.1)\n",
      "Requirement already satisfied: sympy>=1.3 in /usr/local/lib/python3.10/dist-packages (from qiskit>=1.1.0->qiskit_aer) (1.13.1)\n",
      "Requirement already satisfied: dill>=0.3 in /usr/local/lib/python3.10/dist-packages (from qiskit>=1.1.0->qiskit_aer) (0.3.9)\n",
      "Requirement already satisfied: python-dateutil>=2.8.0 in /usr/local/lib/python3.10/dist-packages (from qiskit>=1.1.0->qiskit_aer) (2.8.2)\n",
      "Requirement already satisfied: stevedore>=3.0.0 in /usr/local/lib/python3.10/dist-packages (from qiskit>=1.1.0->qiskit_aer) (5.4.0)\n",
      "Requirement already satisfied: typing-extensions in /usr/local/lib/python3.10/dist-packages (from qiskit>=1.1.0->qiskit_aer) (4.12.2)\n",
      "Requirement already satisfied: symengine<0.14,>=0.11 in /usr/local/lib/python3.10/dist-packages (from qiskit>=1.1.0->qiskit_aer) (0.13.0)\n",
      "Requirement already satisfied: six>=1.5 in /usr/local/lib/python3.10/dist-packages (from python-dateutil>=2.8.0->qiskit>=1.1.0->qiskit_aer) (1.17.0)\n",
      "Requirement already satisfied: pbr>=2.0.0 in /usr/local/lib/python3.10/dist-packages (from stevedore>=3.0.0->qiskit>=1.1.0->qiskit_aer) (6.1.0)\n",
      "Requirement already satisfied: mpmath<1.4,>=1.1.0 in /usr/local/lib/python3.10/dist-packages (from sympy>=1.3->qiskit>=1.1.0->qiskit_aer) (1.3.0)\n",
      "Downloading qiskit_aer-0.15.1-cp310-cp310-manylinux_2_17_x86_64.manylinux2014_x86_64.whl (12.3 MB)\n",
      "\u001b[2K   \u001b[90m━━━━━━━━━━━━━━━━━━━━━━━━━━━━━━━━━━━━━━━━\u001b[0m \u001b[32m12.3/12.3 MB\u001b[0m \u001b[31m81.3 MB/s\u001b[0m eta \u001b[36m0:00:00\u001b[0m\n",
      "\u001b[?25hInstalling collected packages: qiskit_aer\n",
      "Successfully installed qiskit_aer-0.15.1\n",
      "Collecting qiskit_ibm_runtime\n",
      "  Downloading qiskit_ibm_runtime-0.34.0-py3-none-any.whl.metadata (3.0 kB)\n",
      "Requirement already satisfied: requests>=2.19 in /usr/local/lib/python3.10/dist-packages (from qiskit_ibm_runtime) (2.32.3)\n",
      "Collecting requests-ntlm>=1.1.0 (from qiskit_ibm_runtime)\n",
      "  Downloading requests_ntlm-1.3.0-py3-none-any.whl.metadata (2.4 kB)\n",
      "Requirement already satisfied: numpy>=1.13 in /usr/local/lib/python3.10/dist-packages (from qiskit_ibm_runtime) (1.26.4)\n",
      "Requirement already satisfied: urllib3>=1.21.1 in /usr/local/lib/python3.10/dist-packages (from qiskit_ibm_runtime) (2.3.0)\n",
      "Requirement already satisfied: python-dateutil>=2.8.0 in /usr/local/lib/python3.10/dist-packages (from qiskit_ibm_runtime) (2.8.2)\n",
      "Requirement already satisfied: websocket-client>=1.5.1 in /usr/local/lib/python3.10/dist-packages (from qiskit_ibm_runtime) (1.8.0)\n",
      "Collecting ibm-platform-services>=0.22.6 (from qiskit_ibm_runtime)\n",
      "  Downloading ibm_platform_services-0.59.1-py3-none-any.whl.metadata (9.0 kB)\n",
      "Collecting pydantic<2.10,>=2.5.0 (from qiskit_ibm_runtime)\n",
      "  Downloading pydantic-2.9.2-py3-none-any.whl.metadata (149 kB)\n",
      "\u001b[2K     \u001b[90m━━━━━━━━━━━━━━━━━━━━━━━━━━━━━━━━━━━━━━━━\u001b[0m \u001b[32m149.4/149.4 kB\u001b[0m \u001b[31m3.8 MB/s\u001b[0m eta \u001b[36m0:00:00\u001b[0m\n",
      "\u001b[?25hRequirement already satisfied: qiskit>=1.1.0 in /usr/local/lib/python3.10/dist-packages (from qiskit_ibm_runtime) (1.3.1)\n",
      "Collecting ibm_cloud_sdk_core<4.0.0,>=3.22.0 (from ibm-platform-services>=0.22.6->qiskit_ibm_runtime)\n",
      "  Downloading ibm_cloud_sdk_core-3.22.1-py3-none-any.whl.metadata (8.6 kB)\n",
      "Requirement already satisfied: annotated-types>=0.6.0 in /usr/local/lib/python3.10/dist-packages (from pydantic<2.10,>=2.5.0->qiskit_ibm_runtime) (0.7.0)\n",
      "Collecting pydantic-core==2.23.4 (from pydantic<2.10,>=2.5.0->qiskit_ibm_runtime)\n",
      "  Downloading pydantic_core-2.23.4-cp310-cp310-manylinux_2_17_x86_64.manylinux2014_x86_64.whl.metadata (6.6 kB)\n",
      "Requirement already satisfied: typing-extensions>=4.6.1 in /usr/local/lib/python3.10/dist-packages (from pydantic<2.10,>=2.5.0->qiskit_ibm_runtime) (4.12.2)\n",
      "Requirement already satisfied: six>=1.5 in /usr/local/lib/python3.10/dist-packages (from python-dateutil>=2.8.0->qiskit_ibm_runtime) (1.17.0)\n",
      "Requirement already satisfied: rustworkx>=0.15.0 in /usr/local/lib/python3.10/dist-packages (from qiskit>=1.1.0->qiskit_ibm_runtime) (0.15.1)\n",
      "Requirement already satisfied: scipy>=1.5 in /usr/local/lib/python3.10/dist-packages (from qiskit>=1.1.0->qiskit_ibm_runtime) (1.13.1)\n",
      "Requirement already satisfied: sympy>=1.3 in /usr/local/lib/python3.10/dist-packages (from qiskit>=1.1.0->qiskit_ibm_runtime) (1.13.1)\n",
      "Requirement already satisfied: dill>=0.3 in /usr/local/lib/python3.10/dist-packages (from qiskit>=1.1.0->qiskit_ibm_runtime) (0.3.9)\n",
      "Requirement already satisfied: stevedore>=3.0.0 in /usr/local/lib/python3.10/dist-packages (from qiskit>=1.1.0->qiskit_ibm_runtime) (5.4.0)\n",
      "Requirement already satisfied: symengine<0.14,>=0.11 in /usr/local/lib/python3.10/dist-packages (from qiskit>=1.1.0->qiskit_ibm_runtime) (0.13.0)\n",
      "Requirement already satisfied: charset-normalizer<4,>=2 in /usr/local/lib/python3.10/dist-packages (from requests>=2.19->qiskit_ibm_runtime) (3.4.1)\n",
      "Requirement already satisfied: idna<4,>=2.5 in /usr/local/lib/python3.10/dist-packages (from requests>=2.19->qiskit_ibm_runtime) (3.10)\n",
      "Requirement already satisfied: certifi>=2017.4.17 in /usr/local/lib/python3.10/dist-packages (from requests>=2.19->qiskit_ibm_runtime) (2024.12.14)\n",
      "Requirement already satisfied: cryptography>=1.3 in /usr/local/lib/python3.10/dist-packages (from requests-ntlm>=1.1.0->qiskit_ibm_runtime) (43.0.3)\n",
      "Collecting pyspnego>=0.4.0 (from requests-ntlm>=1.1.0->qiskit_ibm_runtime)\n",
      "  Downloading pyspnego-0.11.2-py3-none-any.whl.metadata (5.4 kB)\n",
      "Requirement already satisfied: cffi>=1.12 in /usr/local/lib/python3.10/dist-packages (from cryptography>=1.3->requests-ntlm>=1.1.0->qiskit_ibm_runtime) (1.17.1)\n",
      "Requirement already satisfied: PyJWT<3.0.0,>=2.8.0 in /usr/local/lib/python3.10/dist-packages (from ibm_cloud_sdk_core<4.0.0,>=3.22.0->ibm-platform-services>=0.22.6->qiskit_ibm_runtime) (2.10.1)\n",
      "Requirement already satisfied: pbr>=2.0.0 in /usr/local/lib/python3.10/dist-packages (from stevedore>=3.0.0->qiskit>=1.1.0->qiskit_ibm_runtime) (6.1.0)\n",
      "Requirement already satisfied: mpmath<1.4,>=1.1.0 in /usr/local/lib/python3.10/dist-packages (from sympy>=1.3->qiskit>=1.1.0->qiskit_ibm_runtime) (1.3.0)\n",
      "Requirement already satisfied: pycparser in /usr/local/lib/python3.10/dist-packages (from cffi>=1.12->cryptography>=1.3->requests-ntlm>=1.1.0->qiskit_ibm_runtime) (2.22)\n",
      "Downloading qiskit_ibm_runtime-0.34.0-py3-none-any.whl (3.0 MB)\n",
      "\u001b[2K   \u001b[90m━━━━━━━━━━━━━━━━━━━━━━━━━━━━━━━━━━━━━━━━\u001b[0m \u001b[32m3.0/3.0 MB\u001b[0m \u001b[31m37.9 MB/s\u001b[0m eta \u001b[36m0:00:00\u001b[0m\n",
      "\u001b[?25hDownloading ibm_platform_services-0.59.1-py3-none-any.whl (340 kB)\n",
      "\u001b[2K   \u001b[90m━━━━━━━━━━━━━━━━━━━━━━━━━━━━━━━━━━━━━━━━\u001b[0m \u001b[32m340.8/340.8 kB\u001b[0m \u001b[31m16.7 MB/s\u001b[0m eta \u001b[36m0:00:00\u001b[0m\n",
      "\u001b[?25hDownloading pydantic-2.9.2-py3-none-any.whl (434 kB)\n",
      "\u001b[2K   \u001b[90m━━━━━━━━━━━━━━━━━━━━━━━━━━━━━━━━━━━━━━━━\u001b[0m \u001b[32m434.9/434.9 kB\u001b[0m \u001b[31m24.4 MB/s\u001b[0m eta \u001b[36m0:00:00\u001b[0m\n",
      "\u001b[?25hDownloading pydantic_core-2.23.4-cp310-cp310-manylinux_2_17_x86_64.manylinux2014_x86_64.whl (2.1 MB)\n",
      "\u001b[2K   \u001b[90m━━━━━━━━━━━━━━━━━━━━━━━━━━━━━━━━━━━━━━━━\u001b[0m \u001b[32m2.1/2.1 MB\u001b[0m \u001b[31m55.3 MB/s\u001b[0m eta \u001b[36m0:00:00\u001b[0m\n",
      "\u001b[?25hDownloading requests_ntlm-1.3.0-py3-none-any.whl (6.6 kB)\n",
      "Downloading ibm_cloud_sdk_core-3.22.1-py3-none-any.whl (69 kB)\n",
      "\u001b[2K   \u001b[90m━━━━━━━━━━━━━━━━━━━━━━━━━━━━━━━━━━━━━━━━\u001b[0m \u001b[32m69.4/69.4 kB\u001b[0m \u001b[31m5.7 MB/s\u001b[0m eta \u001b[36m0:00:00\u001b[0m\n",
      "\u001b[?25hDownloading pyspnego-0.11.2-py3-none-any.whl (130 kB)\n",
      "\u001b[2K   \u001b[90m━━━━━━━━━━━━━━━━━━━━━━━━━━━━━━━━━━━━━━━━\u001b[0m \u001b[32m130.5/130.5 kB\u001b[0m \u001b[31m10.4 MB/s\u001b[0m eta \u001b[36m0:00:00\u001b[0m\n",
      "\u001b[?25hInstalling collected packages: pydantic-core, pydantic, ibm_cloud_sdk_core, pyspnego, ibm-platform-services, requests-ntlm, qiskit_ibm_runtime\n",
      "  Attempting uninstall: pydantic-core\n",
      "    Found existing installation: pydantic_core 2.27.2\n",
      "    Uninstalling pydantic_core-2.27.2:\n",
      "      Successfully uninstalled pydantic_core-2.27.2\n",
      "  Attempting uninstall: pydantic\n",
      "    Found existing installation: pydantic 2.10.4\n",
      "    Uninstalling pydantic-2.10.4:\n",
      "      Successfully uninstalled pydantic-2.10.4\n",
      "Successfully installed ibm-platform-services-0.59.1 ibm_cloud_sdk_core-3.22.1 pydantic-2.9.2 pydantic-core-2.23.4 pyspnego-0.11.2 qiskit_ibm_runtime-0.34.0 requests-ntlm-1.3.0\n"
     ]
    }
   ],
   "source": [
    "### INSTALL QISKIT inside your cloud-based environment\n",
    "\n",
    "%pip install qiskit[visualization]\n",
    "%pip install qiskit_aer\n",
    "%pip install qiskit_ibm_runtime"
   ]
  },
  {
   "cell_type": "markdown",
   "id": "aeaf23e0-abd2-44ac-bf8e-55501f0d3723",
   "metadata": {
    "id": "aeaf23e0-abd2-44ac-bf8e-55501f0d3723"
   },
   "source": [
    "### Simulation using `quantum_info` Module"
   ]
  },
  {
   "cell_type": "markdown",
   "id": "e0558bbd-2329-4a42-a1f0-cd931470c23f",
   "metadata": {
    "id": "e0558bbd-2329-4a42-a1f0-cd931470c23f"
   },
   "source": [
    "Using Qiskit `quantum_info` module to simulate quantum properties of the circuit. It is used to simulate quantum behaviour of the circuit. It can show the statvector of the output of the circuit after applying all the gates. It can also show probabilities of finding qubits"
   ]
  },
  {
   "cell_type": "code",
   "execution_count": 1,
   "id": "83d96a96-762e-43f6-97e3-a85782652739",
   "metadata": {
    "id": "83d96a96-762e-43f6-97e3-a85782652739"
   },
   "outputs": [],
   "source": [
    "from qiskit import QuantumCircuit\n",
    "import qiskit.quantum_info as qi"
   ]
  },
  {
   "cell_type": "markdown",
   "id": "d43bcd2c-9311-41ed-80b4-9a599ff50b34",
   "metadata": {
    "id": "d43bcd2c-9311-41ed-80b4-9a599ff50b34"
   },
   "source": [
    "Let's first create a simple circuit without any measurement and look at some of it's properties using Qiskit."
   ]
  },
  {
   "cell_type": "code",
   "execution_count": 2,
   "id": "59058a99-8645-4b59-be9c-83c89619c485",
   "metadata": {
    "id": "59058a99-8645-4b59-be9c-83c89619c485"
   },
   "outputs": [
    {
     "data": {
      "image/png": "[encoded data removed]",
      "text/plain": [
       "<Figure size 203.683x200.667 with 1 Axes>"
      ]
     },
     "execution_count": 2,
     "metadata": {},
     "output_type": "execute_result"
    }
   ],
   "source": [
    "qc = QuantumCircuit(2) #Initialize a Quantum Circuit with 2 Qubits\n",
    "qc.h(0) #apply hadamard gate to the first qubit\n",
    "qc.x(1) #apply hadamard gate to the first qubit\n",
    "\n",
    "qc.draw('mpl')  #let's draw the circuit"
   ]
  },
  {
   "cell_type": "markdown",
   "id": "623c3fcf-18bb-4c00-bad4-f7224dcf8f91",
   "metadata": {
    "id": "623c3fcf-18bb-4c00-bad4-f7224dcf8f91"
   },
   "source": [
    "Now these qubits are in a superposition state. To look at the state vector after the gates operations have been performed on both qubits, we will use `Statevector` function."
   ]
  },
  {
   "cell_type": "code",
   "execution_count": 3,
   "id": "2c7217f1-e34a-4500-b8c6-8ab8a85af895",
   "metadata": {
    "id": "2c7217f1-e34a-4500-b8c6-8ab8a85af895"
   },
   "outputs": [
    {
     "data": {
      "text/latex": [
       "$$\\frac{\\sqrt{2}}{2} |10\\rangle+\\frac{\\sqrt{2}}{2} |11\\rangle$$"
      ],
      "text/plain": [
       "<IPython.core.display.Latex object>"
      ]
     },
     "execution_count": 3,
     "metadata": {},
     "output_type": "execute_result"
    }
   ],
   "source": [
    "psi = qi.Statevector(qc)\n",
    "psi.draw('latex')"
   ]
  },
  {
   "cell_type": "markdown",
   "id": "c0baf375-7618-4fd6-ae3b-ffbea7dad1e4",
   "metadata": {
    "id": "c0baf375-7618-4fd6-ae3b-ffbea7dad1e4"
   },
   "source": [
    "To view the probabilities of each state, use `probabilities` function."
   ]
  },
  {
   "cell_type": "code",
   "execution_count": null,
   "id": "a209e8a9-5bb7-415b-80f1-855d9312ec31",
   "metadata": {
    "id": "a209e8a9-5bb7-415b-80f1-855d9312ec31"
   },
   "outputs": [],
   "source": [
    "prob = psi.probabilities()\n",
    "prob"
   ]
  },
  {
   "cell_type": "markdown",
   "id": "930b4676-e115-4ad2-b4a0-c5a1a4c69b3f",
   "metadata": {
    "id": "930b4676-e115-4ad2-b4a0-c5a1a4c69b3f"
   },
   "source": [
    "The probablity to get each state is 1/4th. But we won't get this number if we run our circuit just one time. To get a real probability of a state. Run the circuit, say a 10000 times, then it will starts to become slowly evident that the probablility of measuring each state in our circuit is indeed 1/4."
   ]
  },
  {
   "cell_type": "markdown",
   "id": "5edf9885-4876-43b6-a291-ae837d931ad3",
   "metadata": {
    "id": "5edf9885-4876-43b6-a291-ae837d931ad3"
   },
   "source": [
    "Now to measure the circuit we have to actually run it multiple times to get a distribution that can corresponds to the probabilities of finding a certain state."
   ]
  },
  {
   "cell_type": "code",
   "execution_count": null,
   "id": "51569535-8635-4f9e-999d-b9a0d5beeee8",
   "metadata": {
    "id": "51569535-8635-4f9e-999d-b9a0d5beeee8"
   },
   "outputs": [],
   "source": [
    "counts = psi.sample_counts(shots = 1000) #shots corresponds to how many time you want to run the circuit\n",
    "print(counts)"
   ]
  },
  {
   "cell_type": "markdown",
   "id": "21599199-ec1b-4a14-b98e-0fae37bea09c",
   "metadata": {
    "id": "21599199-ec1b-4a14-b98e-0fae37bea09c"
   },
   "source": [
    "This result shows that if we run this circuit 1000 times, we will get each state a certain amount of time, as shown in the output of the previous cell. To plot these results, we'll use qiskit `visualization` module."
   ]
  },
  {
   "cell_type": "code",
   "execution_count": null,
   "id": "ff31c331-13ef-4f06-9985-6ced8727e035",
   "metadata": {
    "id": "ff31c331-13ef-4f06-9985-6ced8727e035"
   },
   "outputs": [],
   "source": [
    "from qiskit.visualization import plot_histogram\n",
    "\n",
    "plot_histogram(counts)"
   ]
  },
  {
   "cell_type": "markdown",
   "id": "e7b85104-a7fd-44c9-9df4-0ed67cc3b9e0",
   "metadata": {
    "id": "e7b85104-a7fd-44c9-9df4-0ed67cc3b9e0"
   },
   "source": [
    "As mentioned earlier, an interesting thing to do here is to increase the amounts of shots and see that the count of each state starts to approach 1/4th of the your number of shots."
   ]
  },
  {
   "cell_type": "markdown",
   "id": "d801579b-6ca2-47b3-8e89-59afc60524e6",
   "metadata": {
    "id": "d801579b-6ca2-47b3-8e89-59afc60524e6"
   },
   "source": [
    "To know what state the system measured at each shot. Use `sample_memory` function."
   ]
  },
  {
   "cell_type": "code",
   "execution_count": null,
   "id": "e67fcbcc-f243-4de0-a2af-a3ee37c32639",
   "metadata": {
    "id": "e67fcbcc-f243-4de0-a2af-a3ee37c32639"
   },
   "outputs": [],
   "source": [
    "samples = psi.sample_memory(shots=10)\n",
    "print(samples)"
   ]
  },
  {
   "cell_type": "markdown",
   "id": "f6a3e816-5255-4f7a-a963-00106283047c",
   "metadata": {
    "id": "f6a3e816-5255-4f7a-a963-00106283047c"
   },
   "source": [
    "We can also get bloch sphere representation of each qubit after gates have been applied."
   ]
  },
  {
   "cell_type": "code",
   "execution_count": null,
   "id": "f528bf4e-7400-40f5-95b7-027ef50b4717",
   "metadata": {
    "id": "f528bf4e-7400-40f5-95b7-027ef50b4717"
   },
   "outputs": [],
   "source": [
    "psi.draw('bloch')"
   ]
  },
  {
   "cell_type": "markdown",
   "id": "da3da436-b111-49c8-becf-523835557ac3",
   "metadata": {
    "id": "da3da436-b111-49c8-becf-523835557ac3"
   },
   "source": [
    "There are many uses of this `quantum_info` module, we can use it to find expectation value of the state vector corresponding to any operator that you define. You can play around a little bit with different gates, different number of qubits and explore more functions in *Qiskit Documentation*."
   ]
  },
  {
   "cell_type": "markdown",
   "id": "d0ceb080-d718-4ec4-b851-f42c5f6fd39b",
   "metadata": {
    "id": "d0ceb080-d718-4ec4-b851-f42c5f6fd39b"
   },
   "source": [
    "#### Drawbacks of `quantum_info` module:\n",
    "There is limitations of cases in which you can use `quantum_info`. One major limitation is that if you measure your qubit in your circuit then it will give an error. For exaple, let's write a code for a circuit with classical register or mid circuit measurement."
   ]
  },
  {
   "cell_type": "code",
   "execution_count": 4,
   "id": "d836ca97-0d00-457d-9a3a-0574ae2d0a72",
   "metadata": {
    "id": "d836ca97-0d00-457d-9a3a-0574ae2d0a72"
   },
   "outputs": [
    {
     "data": {
      "image/png": "[encoded data removed]",
      "text/plain": [
       "<Figure size 287.294x284.278 with 1 Axes>"
      ]
     },
     "execution_count": 4,
     "metadata": {},
     "output_type": "execute_result"
    }
   ],
   "source": [
    "qc1 = QuantumCircuit(2,2)\n",
    "#The second 2 represent the number of classical bits to store the results of measurements on the qubits.\n",
    "\n",
    "qc1.h(1)\n",
    "qc1.x(0)\n",
    "qc1.measure(1,0)\n",
    "#Here, (1,0) means that measurement result of qubit 1 to classical bit 0.\n",
    "\n",
    "qc1.draw('mpl')\n"
   ]
  },
  {
   "cell_type": "markdown",
   "id": "88b4dad2-f416-4918-9d94-33e858d76764",
   "metadata": {
    "id": "88b4dad2-f416-4918-9d94-33e858d76764"
   },
   "source": [
    "Now if we run this circuit through `Statevector`, then it will give error."
   ]
  },
  {
   "cell_type": "code",
   "execution_count": null,
   "id": "40baffa2-63ce-43b4-ab16-ca605f3afcf7",
   "metadata": {
    "id": "40baffa2-63ce-43b4-ab16-ca605f3afcf7"
   },
   "outputs": [],
   "source": [
    "qi.Statevector(qc1)"
   ]
  },
  {
   "cell_type": "markdown",
   "id": "68143e50-3e56-453a-9644-7bd86d21c75c",
   "metadata": {
    "id": "68143e50-3e56-453a-9644-7bd86d21c75c"
   },
   "source": [
    "This error is due to the act of measurement. After performing measurement, there is not state vector to show because the wave function collapses after measurement. The superposition is destroyed."
   ]
  },
  {
   "cell_type": "markdown",
   "id": "85718aa9-592a-4ab6-b57a-1d306adde4a3",
   "metadata": {
    "id": "85718aa9-592a-4ab6-b57a-1d306adde4a3"
   },
   "source": [
    "### Simulation using `Basic Simulator` Module"
   ]
  },
  {
   "cell_type": "markdown",
   "id": "ba6267e4-1451-4d6c-80e3-c62a79af2e0f",
   "metadata": {
    "id": "ba6267e4-1451-4d6c-80e3-c62a79af2e0f"
   },
   "source": [
    "The `Basic Simulator` is python implementation of a basic (Non-efficient) quantum simulator. <br>\n",
    "\n",
    "Let's construct a circuit:"
   ]
  },
  {
   "cell_type": "code",
   "execution_count": null,
   "id": "0d959275-2abf-4cfa-bf18-166d72fb6862",
   "metadata": {
    "id": "0d959275-2abf-4cfa-bf18-166d72fb6862"
   },
   "outputs": [],
   "source": [
    "qc2 = QuantumCircuit(2,2)\n",
    "qc2.h(0)\n",
    "qc2.measure(0,0)\n",
    "qc2.x(0)\n",
    "qc2.h(1)\n",
    "qc2.draw('mpl')\n"
   ]
  },
  {
   "cell_type": "markdown",
   "id": "a67c47f2-4423-40f0-9229-86e4a6e2e324",
   "metadata": {
    "id": "a67c47f2-4423-40f0-9229-86e4a6e2e324"
   },
   "source": [
    "Now we will run this circuit on `Basic Simulator`:"
   ]
  },
  {
   "cell_type": "code",
   "execution_count": null,
   "id": "e4d7ebad-d7c0-42f2-bda7-44b69e8c4141",
   "metadata": {
    "id": "e4d7ebad-d7c0-42f2-bda7-44b69e8c4141"
   },
   "outputs": [],
   "source": [
    "from qiskit.providers.basic_provider import BasicSimulator\n",
    "\n",
    "simulator_basic = BasicSimulator() #Initialize the basic simulator\n",
    "job = simulator_basic.run(qc2, shots = 1024) #Run the Quantum Circuit\n",
    "result = job.result() #Retrieve the result\n",
    "print(result) #Print the result"
   ]
  },
  {
   "cell_type": "markdown",
   "id": "a297bd2a-90eb-476c-9ea2-6ecb7cc4fe37",
   "metadata": {
    "id": "a297bd2a-90eb-476c-9ea2-6ecb7cc4fe37"
   },
   "source": [
    "To visualize it, first we will get counts of the measurements and then plot histogram."
   ]
  },
  {
   "cell_type": "code",
   "execution_count": null,
   "id": "836bbe93-7cf6-44c3-9436-7e2bb740e60a",
   "metadata": {
    "id": "836bbe93-7cf6-44c3-9436-7e2bb740e60a"
   },
   "outputs": [],
   "source": [
    "counts = result.get_counts()\n",
    "print(counts)"
   ]
  },
  {
   "cell_type": "code",
   "execution_count": null,
   "id": "7bdb2ec7-3c4b-4d48-a525-0be2f3db79ec",
   "metadata": {
    "id": "7bdb2ec7-3c4b-4d48-a525-0be2f3db79ec"
   },
   "outputs": [],
   "source": [
    "#Write the code to visualize histogram\n",
    "#Write your code here:\n"
   ]
  },
  {
   "cell_type": "markdown",
   "id": "2aa89598-ce3f-49e5-bf52-9201c12f4339",
   "metadata": {
    "id": "2aa89598-ce3f-49e5-bf52-9201c12f4339"
   },
   "source": [
    "To get each result from each shot:"
   ]
  },
  {
   "cell_type": "code",
   "execution_count": null,
   "id": "f45dce66-d21a-4925-b4be-d4ba9818d612",
   "metadata": {
    "id": "f45dce66-d21a-4925-b4be-d4ba9818d612"
   },
   "outputs": [],
   "source": [
    "job = simulator_basic.run(qc2, shots = 10, memory = True)\n",
    "result = job.result()\n",
    "samples = result.get_memory()\n",
    "print(samples)\n"
   ]
  },
  {
   "cell_type": "markdown",
   "id": "a889da37-34b6-4848-bd26-811fda5f49e9",
   "metadata": {
    "id": "a889da37-34b6-4848-bd26-811fda5f49e9"
   },
   "source": [
    "There is a limitation to what types of gates a simulator can mimic. There are very complicated gates that `Basic Simulator` cannot run, and hence will give an error.<br>\n",
    "The reason for this is that Simulator can only run specific gates. The specific gates a backend can run are called **Basis Gates** of that backend."
   ]
  },
  {
   "cell_type": "markdown",
   "id": "435b67b9-97b3-4289-ab9c-307702a3c6b4",
   "metadata": {
    "id": "435b67b9-97b3-4289-ab9c-307702a3c6b4"
   },
   "source": [
    "https://docs.quantum.ibm.com/guides/native-gates#tables-of-gates-and-operations-by-processor-family"
   ]
  },
  {
   "cell_type": "markdown",
   "id": "bfc26653-e8e3-4782-a541-521c76ff580f",
   "metadata": {
    "id": "bfc26653-e8e3-4782-a541-521c76ff580f"
   },
   "source": [
    "To demonstrate this, let's build a 5 qubit *Quantum Fourier Transform Ciruit* (QFT) using qiskit circuit library, which have many pre build circuits."
   ]
  },
  {
   "cell_type": "code",
   "execution_count": null,
   "id": "9b21d26d-0e2e-4904-a38f-79f8772f01c2",
   "metadata": {
    "id": "9b21d26d-0e2e-4904-a38f-79f8772f01c2"
   },
   "outputs": [],
   "source": [
    "from qiskit.circuit.library import QFT\n",
    "from qiskit import qasm\n",
    "\n",
    "qc3 = QuantumCircuit(5,5)\n",
    "qc3.append(QFT(5), range(5))\n",
    "qc3.measure(range(5),range(5))\n",
    "qc3.draw('mpl')\n"
   ]
  },
  {
   "cell_type": "markdown",
   "id": "6f48e1fb-ce5c-4687-a076-f5b108511255",
   "metadata": {
    "id": "6f48e1fb-ce5c-4687-a076-f5b108511255"
   },
   "source": [
    "Here, we have imported a 5 qubit QFT circuit. Now we will run this circuit with `BasicSimulator` and we shall see that it will give an error."
   ]
  },
  {
   "cell_type": "code",
   "execution_count": null,
   "id": "6e35858e-2afa-445d-9ad7-71454a542158",
   "metadata": {
    "id": "6e35858e-2afa-445d-9ad7-71454a542158"
   },
   "outputs": [],
   "source": [
    "job = simulator_basic.run(qc3, shots = 1024)"
   ]
  },
  {
   "cell_type": "markdown",
   "id": "97507f11-d9f2-4850-92dd-f9e0758f59f0",
   "metadata": {
    "id": "97507f11-d9f2-4850-92dd-f9e0758f59f0"
   },
   "source": [
    "This error in above cell, shows that `BasicSimulator` doesn't recognize QFT circuit. It doesn't recognize it's gates. <br>\n",
    "So what should we do now? <br>\n",
    "Now to avoid this error, we have to use qiskit `transpile service`. This breakdown the circuit into the basis gates of that specific backend that it can actually run or simulate.\n"
   ]
  },
  {
   "cell_type": "code",
   "execution_count": null,
   "id": "4c4ba2e0-b0ab-4194-841e-369203f2004d",
   "metadata": {
    "id": "4c4ba2e0-b0ab-4194-841e-369203f2004d"
   },
   "outputs": [],
   "source": [
    "from qiskit import transpile\n",
    "qc_t = transpile(qc3, backend = simulator_basic)\n",
    "qc_t.draw('mpl')"
   ]
  },
  {
   "cell_type": "markdown",
   "id": "82188a0d-9601-40b7-812f-0989b5e3d456",
   "metadata": {
    "id": "82188a0d-9601-40b7-812f-0989b5e3d456"
   },
   "source": [
    "Now to compare what `Transpilation` do to a circuit can be seen in comparation between *the actual 5 Qubit QFT circuit* and *Transpiled QFT circuit* . Below is an image of an actual 5 qubit QFT circuit. The changes of gates are evident."
   ]
  },
  {
   "cell_type": "markdown",
   "id": "ad603376-40bd-4d82-a601-1e0d13ae8d2b",
   "metadata": {
    "id": "ad603376-40bd-4d82-a601-1e0d13ae8d2b"
   },
   "source": [
    "![Image description](https://github.com/SyedAliAsghar2001/IBM-course-Exploratory-Data-Analysis-for-Machine-learning-/blob/main/Screenshot%202025-01-12%20172513.png?raw=true)\n"
   ]
  },
  {
   "cell_type": "markdown",
   "id": "1c97a666-30e4-4cc9-9b43-fe6dcb10e029",
   "metadata": {
    "id": "1c97a666-30e4-4cc9-9b43-fe6dcb10e029"
   },
   "source": [
    "This is not all that `transpiler` do in qiskit transpilation service. When using an actual quantum processor there are many changes that should be made to run the circuit on that specific backend."
   ]
  },
  {
   "cell_type": "markdown",
   "id": "edc2c1ae-fb94-4c27-ba3d-288eb1424f0f",
   "metadata": {
    "id": "edc2c1ae-fb94-4c27-ba3d-288eb1424f0f"
   },
   "source": [
    "#### EXERCISE:\n",
    "Run this transpiled circuit on `Basic Simulator` for 1024 shots. <br>\n",
    "Retrieve it's results. <br>\n",
    "Plot histogram of the counts."
   ]
  },
  {
   "cell_type": "code",
   "execution_count": null,
   "id": "d4682853-096f-424f-bf5a-4341a6142f0f",
   "metadata": {
    "id": "d4682853-096f-424f-bf5a-4341a6142f0f"
   },
   "outputs": [],
   "source": [
    "# Write your code here\n",
    "job =\n",
    "result =\n",
    "counts =\n",
    "#Now plot histogram:\n"
   ]
  },
  {
   "cell_type": "markdown",
   "id": "7fb87806-6a0d-4be4-a809-86efdf9b2554",
   "metadata": {
    "id": "7fb87806-6a0d-4be4-a809-86efdf9b2554"
   },
   "source": [
    "<details>\n",
    "\n",
    "<summary>Answer</summary>\n",
    "\n",
    "\n",
    "```python\n",
    "job = simulator_basic.run(qc_t, shots = 1024)\n",
    "result = job.result()\n",
    "counts = result.get_counts()\n",
    "\n",
    "plot_histogram(counts)\n",
    "```\n",
    "</details>"
   ]
  },
  {
   "cell_type": "markdown",
   "id": "7bdd17db-ce7d-45b7-af79-e7ee235ae0bb",
   "metadata": {
    "id": "7bdd17db-ce7d-45b7-af79-e7ee235ae0bb"
   },
   "source": [
    "#### Drawbacks of `Basic Simulator` module:\n",
    "Don't use this simulator if:\n",
    "1. Circuit is large (many qubits, many gates)\n",
    "2. Need to find coherent states (State Vector / Density Matrix)\n",
    "3. Need to add noise."
   ]
  },
  {
   "cell_type": "markdown",
   "id": "e286f6c8-dd03-4f52-be43-9d19ddbd320c",
   "metadata": {
    "id": "e286f6c8-dd03-4f52-be43-9d19ddbd320c",
    "jp-MarkdownHeadingCollapsed": true
   },
   "source": [
    "### Simulation using `AerSimulator` module"
   ]
  },
  {
   "cell_type": "code",
   "execution_count": null,
   "id": "fbbf716d-5580-4d99-a68d-9f2a0a72d2ae",
   "metadata": {
    "id": "fbbf716d-5580-4d99-a68d-9f2a0a72d2ae"
   },
   "outputs": [],
   "source": [
    "from qiskit import QuantumCircuit , transpile\n",
    "from qiskit.quantum_info import Statevector\n",
    "from qiskit.providers.basic_provider import BasicSimulator\n"
   ]
  },
  {
   "cell_type": "code",
   "execution_count": null,
   "id": "f1a94616-506b-4a68-bfeb-c91995ad694b",
   "metadata": {
    "id": "f1a94616-506b-4a68-bfeb-c91995ad694b"
   },
   "outputs": [],
   "source": [
    "qc4 = QuantumCircuit(2,1)\n",
    "qc4.h(1)           #Apply hadamard gate to qubit 1\n",
    "qc4.measure(1,0)   #measure that qubit. 50% of time it will be 0 and 50% of the time it will be 1.\n",
    "qc4.h(0).c_if(0,1) #if the measurement is 0 then hadamard won't be activated, but if measurement is 1, then hadamard will be activated.\n",
    "qc4.draw('mpl')"
   ]
  },
  {
   "cell_type": "markdown",
   "id": "3f6011df-81c8-4dbf-ae2b-6b333c496e63",
   "metadata": {
    "id": "3f6011df-81c8-4dbf-ae2b-6b333c496e63"
   },
   "source": [
    "Half of the time it will be\n",
    " $$ | 0\\rangle \\otimes | 0\\rangle $$\n",
    "\n",
    "and half of the time it will be\n",
    " $$ |1\\rangle \\otimes  \\frac{1}{\\sqrt{2}} \\left( | 0\\rangle \\otimes | 1\\rangle \\right) $$"
   ]
  },
  {
   "cell_type": "markdown",
   "id": "8cf7f90c-0529-455d-953a-2b500294eb5b",
   "metadata": {
    "id": "8cf7f90c-0529-455d-953a-2b500294eb5b"
   },
   "source": [
    "As there is half half probablility of qubit 0 being measured 1 and 0. So there is equal probablity of having both states.<br>\n",
    "Now how to simulate this type of circuit where not interested in the counts in the classical register but the output of the circuit. <br>\n",
    "If we try to run this circuit on `quantum_info` module to get state vector, then we will get an error."
   ]
  },
  {
   "cell_type": "code",
   "execution_count": null,
   "id": "9fcfaa13-36e4-412e-b747-ef4589d347c1",
   "metadata": {
    "id": "9fcfaa13-36e4-412e-b747-ef4589d347c1"
   },
   "outputs": [],
   "source": [
    "psi = Statevector(qc4)"
   ]
  },
  {
   "cell_type": "markdown",
   "id": "83ad6cca-9973-435c-846b-0153883a9fa1",
   "metadata": {
    "id": "83ad6cca-9973-435c-846b-0153883a9fa1"
   },
   "source": [
    "If we use `Basic Simulator` it won't give us the projected state at the output but the only measurement at the classical register."
   ]
  },
  {
   "cell_type": "code",
   "execution_count": null,
   "id": "540ccbab-d857-48a4-bf31-abb4be765767",
   "metadata": {
    "id": "540ccbab-d857-48a4-bf31-abb4be765767"
   },
   "outputs": [],
   "source": [
    "simulator_basic = BasicSimulator()\n",
    "qc_basic = transpile(qc4, backend = simulator_basic)\n",
    "result = simulator_basic.run(qc_basic, shots = 1024).result()\n",
    "counts = result.get_counts()\n",
    "print(counts)"
   ]
  },
  {
   "cell_type": "markdown",
   "id": "e28d8b1f-319e-452a-b4f0-d0e6c10e20bf",
   "metadata": {
    "id": "e28d8b1f-319e-452a-b4f0-d0e6c10e20bf"
   },
   "source": [
    "Here `Aer Simulator` comes in and help us. First let's import Aer simulator module and initiate the simulator."
   ]
  },
  {
   "cell_type": "code",
   "execution_count": null,
   "id": "17bd50a9-e0d8-43f4-b063-f7f0548f916d",
   "metadata": {
    "id": "17bd50a9-e0d8-43f4-b063-f7f0548f916d"
   },
   "outputs": [],
   "source": [
    "from qiskit_aer import AerSimulator\n",
    "simulator_aer = AerSimulator()"
   ]
  },
  {
   "cell_type": "markdown",
   "id": "f596fbb5-d5ed-44bf-98e2-e51a21521069",
   "metadata": {
    "id": "f596fbb5-d5ed-44bf-98e2-e51a21521069"
   },
   "source": [
    "`AerSimulator` provides us a unqiue function i.e. `save_statevector` function. It saves the statevector at that point where we introduce the function. and conclusively, we can extract the state vector even after performing a measurement or at any point in a circuit."
   ]
  },
  {
   "cell_type": "code",
   "execution_count": null,
   "id": "9fedd73e-754d-4f77-9f7a-fa5551d65372",
   "metadata": {
    "id": "9fedd73e-754d-4f77-9f7a-fa5551d65372"
   },
   "outputs": [],
   "source": [
    "qc5 = QuantumCircuit(2,1)\n",
    "qc5.h(1)           #Apply hadamard gate to qubit 1\n",
    "qc5.measure(1,0)   #measure that qubit. 50% of time it will be 0 and 50% of the time it will be 1.\n",
    "qc5.h(0).c_if(0,1) #if the measurement is 0 then hadamard won't be activated, but if measurement is 1, then hadamard will be activated.\n",
    "\n",
    "qc5.save_statevector()\n",
    "qc5.draw('mpl')"
   ]
  },
  {
   "cell_type": "markdown",
   "id": "bb034885-28b2-47e0-95e1-48c658f901bf",
   "metadata": {
    "id": "bb034885-28b2-47e0-95e1-48c658f901bf"
   },
   "source": [
    "Now run the above circuit using `Aer Simulator`"
   ]
  },
  {
   "cell_type": "code",
   "execution_count": null,
   "id": "56f92eba-73f1-4c06-8560-f54e773940fb",
   "metadata": {
    "id": "56f92eba-73f1-4c06-8560-f54e773940fb"
   },
   "outputs": [],
   "source": [
    "qc_aer = transpile(qc4, backend = simulator_aer)\n",
    "result = simulator_aer.run(qc5).result()\n",
    "psi = result.get_statevector()\n",
    "psi.draw('latex')"
   ]
  },
  {
   "cell_type": "markdown",
   "id": "626d472d-9b5f-4fec-83b9-31689a7cd963",
   "metadata": {
    "id": "626d472d-9b5f-4fec-83b9-31689a7cd963"
   },
   "source": [
    "What this `AerSimulator` is doing is that it is giving us the state vector at the output of the circuit. As both states have equal probablity, you can see that if you run the above cell various times. <br>\n",
    "*Go on try it. Run above cell multiple time and see the change in output*"
   ]
  },
  {
   "cell_type": "markdown",
   "id": "0e022aa5-7fa2-447f-9010-376643bb65b8",
   "metadata": {
    "id": "0e022aa5-7fa2-447f-9010-376643bb65b8"
   },
   "source": [
    "##### `Aer Simulator` is efficient"
   ]
  },
  {
   "cell_type": "markdown",
   "id": "0d90d275-adac-418b-8353-233a7e99ba85",
   "metadata": {
    "id": "0d90d275-adac-418b-8353-233a7e99ba85"
   },
   "source": [
    "To demonstrate how time efficient `AerSimulator` is as compared to other simulators that we used before, let's take a look at this circuit. It is a GHZ state generator."
   ]
  },
  {
   "cell_type": "code",
   "execution_count": null,
   "id": "5462e854-c160-4991-b5a5-849d13620150",
   "metadata": {
    "id": "5462e854-c160-4991-b5a5-849d13620150"
   },
   "outputs": [],
   "source": [
    "n = 500 #No. of qubits\n",
    "qc6 = QuantumCircuit(n)\n",
    "qc6.h(n-1)\n",
    "\n",
    "for i in range(n-1, 0, -1):\n",
    "    qc6.cx(i, i-1)\n",
    "\n",
    "qc6.measure_all() #Measure all qubits\n",
    "\n",
    "#qc6.draw('mpl')"
   ]
  },
  {
   "cell_type": "markdown",
   "id": "281b713f-8aad-46ce-9b38-d110a2e5dbbc",
   "metadata": {
    "id": "281b713f-8aad-46ce-9b38-d110a2e5dbbc"
   },
   "source": [
    "#### EXERCISE:\n",
    "Now to compare the time efficiency of Aer simulator, run this circuit first using `Basic Simulator`:"
   ]
  },
  {
   "cell_type": "code",
   "execution_count": null,
   "id": "ea3218c3-f861-4f7c-ae8d-a5b02807782b",
   "metadata": {
    "id": "ea3218c3-f861-4f7c-ae8d-a5b02807782b"
   },
   "outputs": [],
   "source": [
    "%%time\n",
    "# keep the shots to 1024\n",
    "\n",
    "result =  # write your code here\n",
    "counts = # write your code here\n",
    "print(counts)"
   ]
  },
  {
   "cell_type": "markdown",
   "id": "95872bfc-48e6-4250-b92d-f268897d3ed4",
   "metadata": {
    "id": "95872bfc-48e6-4250-b92d-f268897d3ed4"
   },
   "source": [
    "<details>\n",
    "\n",
    "<summary>Answer</summary>\n",
    "\n",
    "\n",
    "```python\n",
    "result = simulator_basic.run(qc6, shots = 1024).result()\n",
    "counts = result.get_counts()\n",
    "\n",
    "```\n",
    "</details>"
   ]
  },
  {
   "cell_type": "markdown",
   "id": "7a70c032-34fb-4533-a486-3f9f794983da",
   "metadata": {
    "id": "7a70c032-34fb-4533-a486-3f9f794983da"
   },
   "source": [
    "Now run that same circuit on `Aer Simulator` as well."
   ]
  },
  {
   "cell_type": "code",
   "execution_count": null,
   "id": "d0479004-084f-406e-b123-48d7c6d2eae3",
   "metadata": {
    "id": "d0479004-084f-406e-b123-48d7c6d2eae3"
   },
   "outputs": [],
   "source": [
    "%%time\n",
    "\n",
    "# keep the shots to 1024\n",
    "\n",
    "result = # write your code here\n",
    "counts = # write your code here\n",
    "print(counts)"
   ]
  },
  {
   "cell_type": "markdown",
   "id": "51daa5f6-1bb8-498a-be84-e4e1fe66b45e",
   "metadata": {
    "id": "51daa5f6-1bb8-498a-be84-e4e1fe66b45e"
   },
   "source": [
    "<details>\n",
    "\n",
    "<summary>Answer</summary>\n",
    "\n",
    "\n",
    "```python\n",
    "result = simulator_aer.run(qc6, shots = 1024).result()\n",
    "counts = result.get_counts()\n",
    "\n",
    "```\n",
    "</details>"
   ]
  },
  {
   "cell_type": "markdown",
   "id": "936601c2-3ecb-4e18-9749-d0773c910018",
   "metadata": {
    "id": "936601c2-3ecb-4e18-9749-d0773c910018"
   },
   "source": [
    "Once you have run the above circuit with only **5** qubits on both simulators, you'll notice that there is not much time difference between those two.<br>\n",
    "Now, go to the original circuit and increase the number of qubit (but do comment out qc6.draw('mpl') command) as follows:<br>\n",
    "Do it for 24 qubits, 50 qubits then go for 500 qubits. <br>\n",
    "To see actual efficiency of `AerSimulator` method `matrix_product_state`. Run the circuit through all three backends:\n",
    "1. `Basic Simulator`\n",
    "2. `Aer Simulator`\n",
    "3. `Aer Simulator` with `statevector` method then with `matrix_product_state` method. (Given below)"
   ]
  },
  {
   "cell_type": "markdown",
   "id": "53a38f42-bff1-4db3-b0bc-2b8517f04769",
   "metadata": {
    "id": "53a38f42-bff1-4db3-b0bc-2b8517f04769"
   },
   "source": [
    "`Aer Simulation` Matrix_product_state method for 500 qubits:"
   ]
  },
  {
   "cell_type": "code",
   "execution_count": null,
   "id": "09405883-a144-48a1-ba69-7dc2addc710c",
   "metadata": {
    "id": "09405883-a144-48a1-ba69-7dc2addc710c"
   },
   "outputs": [],
   "source": [
    "%%time\n",
    "\n",
    "# keep the shots to 1024\n",
    "\n",
    "result = simulator_aer.run(qc6, shots = 1024, method = 'statevector').result() #Change the method to Matrix_product_method\n",
    "counts = result.get_counts()\n",
    "print(counts)"
   ]
  },
  {
   "cell_type": "markdown",
   "id": "83285c45-2d60-4599-8b2f-77af938ee3fb",
   "metadata": {
    "id": "83285c45-2d60-4599-8b2f-77af938ee3fb"
   },
   "source": [
    "Specialty of `matrix_product_state` is that Instead of storing the entire statevector (which requires 2^n complex numbers for\n",
    "n-qubit systems), MPS represents the quantum state as a chain of tensors connected by bonds. This is the reason it can process 50 qubits so easily."
   ]
  },
  {
   "cell_type": "markdown",
   "id": "bd9a8c8e-2ec4-4c2a-93da-baf47ddf8092",
   "metadata": {
    "id": "bd9a8c8e-2ec4-4c2a-93da-baf47ddf8092"
   },
   "source": [
    "#### Simulating Noise with `Qiskit Aer Simulator`"
   ]
  },
  {
   "cell_type": "markdown",
   "id": "f1661e98-2963-448d-8384-10d5b01c99f0",
   "metadata": {
    "id": "f1661e98-2963-448d-8384-10d5b01c99f0"
   },
   "source": [
    "#### EXERCISE\n",
    "Create a circuit with 2 qubits. Apply hadamard gate on qubit 0 and `cx` gate at qubit 0 and 1. And then measure it. Then draw it.<br>\n",
    "Then run the simulation on `qiskit Aer`, which will be with no noise.<br>\n",
    "After running the circuit now plot a histogram for the counts. In the next cell."
   ]
  },
  {
   "cell_type": "code",
   "execution_count": null,
   "id": "57830381-f4ac-4472-acbf-4e61ffced657",
   "metadata": {
    "id": "57830381-f4ac-4472-acbf-4e61ffced657"
   },
   "outputs": [],
   "source": [
    "#Write your code here:\n"
   ]
  },
  {
   "cell_type": "markdown",
   "id": "21200583-9cba-4e40-a966-6c3a3b540458",
   "metadata": {
    "id": "21200583-9cba-4e40-a966-6c3a3b540458"
   },
   "source": [
    "<details>\n",
    "\n",
    "<summary>Answer</summary>\n",
    "\n",
    "\n",
    "```python\n",
    "qc7 = QuantumCircuit(2,2)\n",
    "qc7.h(0)\n",
    "qc7.cx(0,1)\n",
    "qc7.measure([0,1], [1,0]) #first bracket gives which qubits to measure and second bracket provides on which classical bit to map that wubit respectively.\n",
    "qc7.draw('mpl')\n",
    "\n",
    "qc_aer = transpile(qc7, backend = simulator_aer)\n",
    "result_ideal = simulator_aer.run(qc_aer, shots = 1024).result()\n",
    "counts_ideal = result_ideal.get_counts()\n",
    "```\n",
    "</details>"
   ]
  },
  {
   "cell_type": "markdown",
   "id": "36a3cdcc-4aea-4937-8144-17e33345ecef",
   "metadata": {
    "id": "36a3cdcc-4aea-4937-8144-17e33345ecef"
   },
   "source": [
    "Here you can see that with no noise only entangled states are measured with half half probablities. But this is the ideal case with no noise where no other state is measured."
   ]
  },
  {
   "cell_type": "code",
   "execution_count": null,
   "id": "23d77991-431c-4972-a0db-ec319d4ae8c6",
   "metadata": {
    "id": "23d77991-431c-4972-a0db-ec319d4ae8c6"
   },
   "outputs": [],
   "source": [
    "from qiskit_aer import noise\n",
    "prob = 0.1\n",
    "error = noise.depolarizing_error(prob, 2)\n",
    "\n",
    "noise_model = noise.NoiseModel()\n",
    "noise_model.add_all_qubit_quantum_error(error, ['cx'])\n",
    "basis_gates = noise_model.basis_gates\n",
    "\n",
    "result_noisy = simulator_aer.run(qc7,\n",
    "                                shots = 1024,\n",
    "                                noise_model = noise_model,\n",
    "                                basis_gates = basis_gates).result()\n",
    "counts_noisy = result_noisy.get_counts()"
   ]
  },
  {
   "cell_type": "markdown",
   "id": "113ed29b-fb58-4c1a-af86-01a11955c126",
   "metadata": {
    "id": "113ed29b-fb58-4c1a-af86-01a11955c126"
   },
   "source": [
    "Now compare the result of circuit with no noise and the circuit with noise."
   ]
  },
  {
   "cell_type": "code",
   "execution_count": null,
   "id": "2ab9974f-9f58-4bfe-b83e-9cbf3ceaa992",
   "metadata": {
    "id": "2ab9974f-9f58-4bfe-b83e-9cbf3ceaa992"
   },
   "outputs": [],
   "source": [
    "from qiskit.visualization import plot_distribution\n",
    "plot_distribution([counts_ideal, counts_noisy])"
   ]
  },
  {
   "cell_type": "markdown",
   "id": "3a4d06ba-e583-497c-89ac-1d5e62503f62",
   "metadata": {
    "id": "3a4d06ba-e583-497c-89ac-1d5e62503f62"
   },
   "source": [
    "In the above plot it is evident that with noisy circuit, there are chances to get the states which are not possible to get with noise free circuit. This feature of `Qiskit Aer` comes in handy when we scale up our circuits and number of qubits.\n"
   ]
  },
  {
   "cell_type": "markdown",
   "id": "fbb3157a-2d52-4027-a525-2e5bdaaedffd",
   "metadata": {
    "id": "fbb3157a-2d52-4027-a525-2e5bdaaedffd",
    "jp-MarkdownHeadingCollapsed": true
   },
   "source": [
    "### Using `Qiskit_IBM_Runtime` to run circuit on `QPU`"
   ]
  },
  {
   "cell_type": "code",
   "execution_count": null,
   "id": "f72371cc-259d-4a0c-9b82-022e84c81474",
   "metadata": {
    "id": "f72371cc-259d-4a0c-9b82-022e84c81474"
   },
   "outputs": [],
   "source": [
    "from qiskit_ibm_runtime import QiskitRuntimeService\n",
    "## Save an IBM Quantum account and set it as your default account.\n",
    "QiskitRuntimeService.save_account(\n",
    "\n",
    "    channel=\"ibm_quantum\",\n",
    "\n",
    "    token=\"eed164d4b2637d86d4f02090633c55259fc09ed8abab662f73748140e329e069b306852572fd719c2b34dce7a2e75cdb863247813ed03f500360bcf99af84916\",\n",
    "\n",
    "    set_as_default=True,\n",
    "\n",
    "    # Use `overwrite=True` if you're updating your token.\n",
    "    overwrite=True,\n",
    ")"
   ]
  },
  {
   "cell_type": "code",
   "execution_count": null,
   "id": "f1d26c57-b2b0-491e-84d2-ff8abc5dd2eb",
   "metadata": {
    "id": "f1d26c57-b2b0-491e-84d2-ff8abc5dd2eb"
   },
   "outputs": [],
   "source": [
    "from math import pi\n",
    "from qiskit import QuantumCircuit , QuantumRegister , ClassicalRegister , transpile\n",
    "from qiskit.visualization import plot_distribution\n",
    "from qiskit_aer import AerSimulator\n",
    "from qiskit_ibm_runtime import SamplerV2, EstimatorV2 , QiskitRuntimeService"
   ]
  },
  {
   "cell_type": "markdown",
   "id": "8a8a3e77-b2cf-44fe-9722-645941ed4c3e",
   "metadata": {
    "id": "8a8a3e77-b2cf-44fe-9722-645941ed4c3e"
   },
   "source": [
    "#### Define Sampler Instances"
   ]
  },
  {
   "cell_type": "code",
   "execution_count": null,
   "id": "569c09e4-28fb-431a-8ff9-077c70f9f244",
   "metadata": {
    "id": "569c09e4-28fb-431a-8ff9-077c70f9f244"
   },
   "outputs": [],
   "source": [
    "backend_aer = AerSimulator()"
   ]
  },
  {
   "cell_type": "code",
   "execution_count": null,
   "id": "3eb19882-fc33-4df7-862a-8e107f06f20c",
   "metadata": {
    "id": "3eb19882-fc33-4df7-862a-8e107f06f20c"
   },
   "outputs": [],
   "source": [
    "## To run on hardware, select the backend with the fewest number of jobs in the queue\n",
    "\n",
    "service = QiskitRuntimeService(channel=\"ibm_quantum\")\n",
    "backend = service.least_busy(operational=True, simulator=False, min_num_qubits=127)\n",
    "backend.name"
   ]
  },
  {
   "cell_type": "code",
   "execution_count": null,
   "id": "fc09b714-8283-4e25-a20e-5bb8e6b8cac0",
   "metadata": {
    "id": "fc09b714-8283-4e25-a20e-5bb8e6b8cac0"
   },
   "outputs": [],
   "source": [
    "sampler_aer = SamplerV2(backend = backend_aer)\n",
    "sampler_back = SamplerV2(backend = backend)"
   ]
  },
  {
   "cell_type": "markdown",
   "id": "36acb9d1-2163-4004-a55f-2c83b0d690c3",
   "metadata": {
    "id": "36acb9d1-2163-4004-a55f-2c83b0d690c3"
   },
   "source": [
    "#### Create Circuits"
   ]
  },
  {
   "cell_type": "code",
   "execution_count": null,
   "id": "717fb7bd-93f7-45eb-87c3-225961b8d191",
   "metadata": {
    "id": "717fb7bd-93f7-45eb-87c3-225961b8d191"
   },
   "outputs": [],
   "source": [
    "qc0 = QuantumCircuit(1)\n",
    "qc0.h(0)\n",
    "qc0.measure_all()\n",
    "qc0.draw('mpl')"
   ]
  },
  {
   "cell_type": "markdown",
   "id": "e0e8f68e-514b-42a8-aed3-a4b84f02e718",
   "metadata": {
    "id": "e0e8f68e-514b-42a8-aed3-a4b84f02e718"
   },
   "source": [
    "#### Transpile the circuit"
   ]
  },
  {
   "cell_type": "markdown",
   "id": "e95edf32-be90-4908-8dcb-19208a82f396",
   "metadata": {
    "id": "e95edf32-be90-4908-8dcb-19208a82f396"
   },
   "source": [
    "First for `Aer Simulator`:"
   ]
  },
  {
   "cell_type": "code",
   "execution_count": null,
   "id": "ef1068e9-3b57-4a9f-ba6c-757663427985",
   "metadata": {
    "id": "ef1068e9-3b57-4a9f-ba6c-757663427985"
   },
   "outputs": [],
   "source": [
    "qc0_aer = transpile(qc0, backend = backend_aer)\n",
    "qc0_aer.draw('mpl')"
   ]
  },
  {
   "cell_type": "markdown",
   "id": "33f32e06-85b0-4543-bba2-c4e580c68972",
   "metadata": {
    "id": "33f32e06-85b0-4543-bba2-c4e580c68972"
   },
   "source": [
    "Now transpile for `ibm_backend`:"
   ]
  },
  {
   "cell_type": "code",
   "execution_count": null,
   "id": "ea0dac99-a5ef-4b4b-b8db-3d7cf2f86462",
   "metadata": {
    "id": "ea0dac99-a5ef-4b4b-b8db-3d7cf2f86462"
   },
   "outputs": [],
   "source": [
    "qc0_back = transpile(qc0, backend = backend)\n",
    "qc0_back.draw('mpl')"
   ]
  },
  {
   "cell_type": "markdown",
   "id": "930f46aa-f042-4106-9281-5042f4a5717a",
   "metadata": {
    "id": "930f46aa-f042-4106-9281-5042f4a5717a"
   },
   "source": [
    "#### Execute using Sampler"
   ]
  },
  {
   "cell_type": "code",
   "execution_count": null,
   "id": "b71347f7-d616-41e2-ba9c-60d0b7a2ee7b",
   "metadata": {
    "id": "b71347f7-d616-41e2-ba9c-60d0b7a2ee7b"
   },
   "outputs": [],
   "source": [
    "job_aer = sampler_aer.run([qc0_aer], shots = 100)\n",
    "job_back =sampler_sher.run([qc0_sher], shots = 2)"
   ]
  },
  {
   "cell_type": "code",
   "execution_count": null,
   "id": "e3dcc53e-db3a-4234-a0d1-ba3890651d99",
   "metadata": {
    "id": "e3dcc53e-db3a-4234-a0d1-ba3890651d99"
   },
   "outputs": [],
   "source": [
    "result_aer = job_aer.result()\n",
    "result_back = job_back.result()"
   ]
  },
  {
   "cell_type": "code",
   "execution_count": null,
   "id": "331b938c-cde8-4929-b491-5f146e3ab62f",
   "metadata": {
    "id": "331b938c-cde8-4929-b491-5f146e3ab62f"
   },
   "outputs": [],
   "source": [
    "counts_qc0_aer = result_aer[0].data.meas.get_counts()"
   ]
  },
  {
   "cell_type": "code",
   "execution_count": null,
   "id": "95ce8c79-d7bc-48b4-ab9e-10536dde46f1",
   "metadata": {
    "id": "95ce8c79-d7bc-48b4-ab9e-10536dde46f1"
   },
   "outputs": [],
   "source": [
    "counts_qc0_back =result_back[0].data.meas.get_counts()"
   ]
  },
  {
   "cell_type": "markdown",
   "id": "9b9d6ec3-3623-4df1-839f-9eb3747c85a6",
   "metadata": {
    "id": "9b9d6ec3-3623-4df1-839f-9eb3747c85a6"
   },
   "source": [
    "# PART II: Introduction to Qiskit Patterns\n",
    "A Qiskit pattern is a general framework for breaking down domain-specific problems and contextualizing required capabilities in stages. This allows for the seamless composability of new capabilities developed by IBM Quantum™ researchers (and others) and enables a future in which quantum computing tasks are performed by powerful heterogenous (CPU/GPU/QPU) computing infrastructure. Blocks or groups of blocks perform the steps of a pattern, with the Qiskit SDK providing an important foundational layer, supported by other tools or services developed by IBM Quantum or the quantum open-source community. Qiskit patterns allow domain experts to specify a problem and compose the tooling (blocks) that achieves a Qiskit pattern. That pattern can then be executed locally, through cloud services, or deployed with Qiskit Serverless.\n",
    "\n",
    "![Qiskit Sample](https://www.ibm.com/quantum/_next/image?url=https%3A%2F%2Fresearch-website-prod-cms-uploads.s3.us.cloud-object-storage.appdomain.cloud%2FQiskit_Cloud_Blog_Image_191524194f.png&w=1584&q=75 'Qiskit')\n",
    "\n",
    "The four steps of a Qiskit Pattern are as follows:\n",
    "\n",
    "1. **Map** the problem to quantum circuits and operators.\n",
    "2. **Optimize** for target hardware.\n",
    "3. **Execute** on target hardware.\n",
    "4. **Post-process** results.\n"
   ]
  },
  {
   "cell_type": "markdown",
   "id": "5b694894-4ecf-41d8-89cc-52877ff62532",
   "metadata": {
    "id": "5b694894-4ecf-41d8-89cc-52877ff62532"
   },
   "source": [
    "The `Qiskit SDK`, the `Qiskit Runtime Service`, and the `Qiskit Transpiler Service` are three distinct components, each serving a specific purpose within `Qiskit patterns` for different tasks.. Below is a diagram which shows the four steps involved in running a quantum circuit on real hardware (map, optimize, execute, and post-process). At each step, you can see a color-coded description of where each aspect of Qiskit plays a role."
   ]
  },
  {
   "cell_type": "markdown",
   "id": "7a67f63b-0096-42dd-bd94-56d991d77585",
   "metadata": {
    "id": "7a67f63b-0096-42dd-bd94-56d991d77585"
   },
   "source": [
    "\n",
    "[![A map of the broader Qiskit ecosystem](https://docs.quantum.ibm.com/images/qiskit-patterns/patterns.svg 'Qiskit Overview')](https://docs.quantum.ibm.com/guides)\n"
   ]
  },
  {
   "cell_type": "markdown",
   "id": "cadbede2-3ee1-434d-8145-d781db33a175",
   "metadata": {
    "id": "cadbede2-3ee1-434d-8145-d781db33a175"
   },
   "source": [
    "## Map the problem to quantum circuits and operators:"
   ]
  },
  {
   "cell_type": "markdown",
   "id": "1f3ebf7c-da6e-4926-8fa9-77e4abe69ee8",
   "metadata": {
    "id": "1f3ebf7c-da6e-4926-8fa9-77e4abe69ee8"
   },
   "source": [
    "This step describes how a user starts with a classical problem and figures out how to map it to a quantum computer. For example, there is a hamiltonian quantum chemistry that you are trying to solve or you want to find the ground energy level of that hamiltonian. This step generally involves constructing a quantum circuit representing the hamiltonian ou are attempting to solve.\n",
    "However, in many problems there might not be a straight forward hamiltonian involved. In that case you have to first come up with a function or hamiltonian which corresponds to the problem. and then map that function onto the quantum circuit. <br>\n",
    "\n",
    "While mapping is still an area of open research, there are some guidelines:\n",
    "1. **Pick a problem** that is computationally difficult.\n",
    "2.  **Translate the outcomes** you wish to measure into either an expection value or cost function.\n",
    "3.  **Map to a lattice** that takes advantage of the hardware topology.\n",
    "\n",
    "The problem should be mapped to a quantum circuit according to the algorithm you are using to solve the problem. <br>\n",
    "For example, if you are using **Variational Quantum Eigensolver (VQE)** or **Quantum Approximate Optimization Algorithm (QAOA)**, these are the algorithms where a cost function is minimized or maximized, then you probably have to construct a circuit with parameterized gates so that you can minimize or maximize the cost function or the hamiltonian that you are solving."
   ]
  },
  {
   "cell_type": "markdown",
   "id": "055aaf89-becc-4d2a-8bfb-2dc5365f8d21",
   "metadata": {
    "id": "055aaf89-becc-4d2a-8bfb-2dc5365f8d21"
   },
   "source": [
    "## Optimize for target hardware:\n",
    "Make sure the quantum circuit is adjusted and optimized for the specific quantum computer or simulator you are using. This could involve simplifying the circuit or making it run more efficiently on the hardware's architecture.\n",
    "The overall goal of the optimization step is to map all of the virtual qubits of our circuits on the real qubits somewhere on the topology of the actual quantum chip.\n",
    "The name of the game is to reduce errors as much as possible.  <br>\n",
    "Optimization involves two steps in general:\n",
    "1. **Plan Layout**: Need to go from virtual qubits to real qubits.\n",
    "2. **Fix Routing**: Avoid long-range interactions when possible (more SWAPS = bad).\n",
    "3. **Merge gates**: Get rid of unnecessary gates or combinations."
   ]
  },
  {
   "cell_type": "markdown",
   "id": "85f6a08a-d7e9-42fe-a37c-0501109bace2",
   "metadata": {
    "id": "85f6a08a-d7e9-42fe-a37c-0501109bace2"
   },
   "source": [
    "## Execute on target hardware:\n",
    "Run the optimized quantum circuit on the actual quantum machine or simulator. The goal here is to get results from the quantum computer."
   ]
  },
  {
   "cell_type": "markdown",
   "id": "ec7d1d13-fed3-49c5-94de-8ce01e984af6",
   "metadata": {
    "id": "ec7d1d13-fed3-49c5-94de-8ce01e984af6"
   },
   "source": [
    "## Post process the results:\n",
    "Once the quantum computer has finished running the circuit, you analyze the results. This might involve converting raw data into a meaningful format or drawing conclusions from the output."
   ]
  },
  {
   "cell_type": "markdown",
   "id": "94800611-9420-4ea3-bae3-f317029ae723",
   "metadata": {
    "id": "94800611-9420-4ea3-bae3-f317029ae723"
   },
   "source": [
    "### Additional Information\n",
    "**Notebook prepared by**: Syed Ali Asghar"
   ]
  }
 ],
 "metadata": {
  "colab": {
   "collapsed_sections": [
    "85718aa9-592a-4ab6-b57a-1d306adde4a3",
    "e286f6c8-dd03-4f52-be43-9d19ddbd320c",
    "fbb3157a-2d52-4027-a525-2e5bdaaedffd",
    "9b9d6ec3-3623-4df1-839f-9eb3747c85a6"
   ],
   "provenance": []
  },
  "kernelspec": {
   "display_name": "Python 3 (ipykernel)",
   "language": "python",
   "name": "python3"
  },
  "language_info": {
   "codemirror_mode": {
    "name": "ipython",
    "version": 3
   },
   "file_extension": ".py",
   "mimetype": "text/x-python",
   "name": "python",
   "nbconvert_exporter": "python",
   "pygments_lexer": "ipython3",
   "version": "3.11.7"
  }
 },
 "nbformat": 4,
 "nbformat_minor": 5
}
